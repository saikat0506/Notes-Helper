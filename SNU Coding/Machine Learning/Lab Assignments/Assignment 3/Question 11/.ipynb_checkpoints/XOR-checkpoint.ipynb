{
 "cells": [
  {
   "cell_type": "markdown",
   "id": "301a4ce7-9e40-4406-a6ee-478e530db66a",
   "metadata": {},
   "source": [
    "# It is running for the long time and I became out of my patience. So why I stopped running the code in the middle and got no output. But perhaps the code is right.\n",
    "# If this type of error is showing - \" ModuleNotFoundError: No module named 'tensorflow' \" - Then run this code before doing everything \" !pip install tensorflow \""
   ]
  },
  {
   "cell_type": "code",
   "execution_count": null,
   "id": "046b0a94-bf87-419a-b137-7c87ace53d7c",
   "metadata": {},
   "outputs": [],
   "source": [
    "!pip install tensorflow\n",
    "\n",
    "import numpy as np\n",
    "from tensorflow.keras.models import Sequential\n",
    "from tensorflow.keras.layers import Dense\n",
    "from tensorflow.keras.optimizers import SGD\n",
    "\n",
    "# XOR Inputs and Outputs\n",
    "X = np.array([[0,0], [0,1], [1,0], [1,1]])\n",
    "y = np.array([[0], [1], [1], [0]])\n",
    "\n",
    "# Define the model\n",
    "model = Sequential()\n",
    "model.add(Dense(2, input_dim=2, activation='sigmoid'))  # hidden layer\n",
    "model.add(Dense(1, activation='sigmoid'))               # output layer\n",
    "\n",
    "# Compile the model\n",
    "model.compile(optimizer=SGD(learning_rate=0.1), loss='binary_crossentropy', metrics=['accuracy'])\n",
    "\n",
    "# Train the model\n",
    "model.fit(X, y, epochs=10000, verbose=0)\n",
    "\n",
    "# Evaluate and predict\n",
    "print(\"\\nFinal predictions:\")\n",
    "predictions = model.predict(X)\n",
    "for i, x in enumerate(X):\n",
    "    print(f\"Input: {x}, Predicted Output: {predictions[i][0]:.4f}, Rounded: {np.round(predictions[i][0])}\")"
   ]
  },
  {
   "cell_type": "code",
   "execution_count": null,
   "id": "d4fa7e40-942b-4ea7-ad1c-0a20bd9c0b94",
   "metadata": {},
   "outputs": [],
   "source": []
  }
 ],
 "metadata": {
  "kernelspec": {
   "display_name": "Python [conda env:base] *",
   "language": "python",
   "name": "conda-base-py"
  },
  "language_info": {
   "codemirror_mode": {
    "name": "ipython",
    "version": 3
   },
   "file_extension": ".py",
   "mimetype": "text/x-python",
   "name": "python",
   "nbconvert_exporter": "python",
   "pygments_lexer": "ipython3",
   "version": "3.12.7"
  }
 },
 "nbformat": 4,
 "nbformat_minor": 5
}
